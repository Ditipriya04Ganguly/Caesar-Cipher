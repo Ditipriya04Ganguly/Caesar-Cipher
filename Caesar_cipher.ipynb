{
  "nbformat": 4,
  "nbformat_minor": 0,
  "metadata": {
    "colab": {
      "name": "Caesar cipher.ipynb",
      "provenance": []
    },
    "kernelspec": {
      "name": "python3",
      "display_name": "Python 3"
    },
    "language_info": {
      "name": "python"
    }
  },
  "cells": [
    {
      "cell_type": "code",
      "metadata": {
        "colab": {
          "base_uri": "https://localhost:8080/"
        },
        "id": "TtpCUZ5G6y03",
        "outputId": "2a421b04-9c10-4b6b-a3ad-ad781cc4f6ec"
      },
      "source": [
        "\n",
        "def encrypted(st,shift):\n",
        "  cipher=\"\"\n",
        "  for char in st:\n",
        "    if char==' ':\n",
        "      cipher=cipher+char\n",
        "    elif char.isupper():\n",
        "      cipher=cipher+chr((ord(char)+shift-65)%26+65)\n",
        "    else:\n",
        "      cipher=cipher+chr((ord(char)+shift-97)%26+97)\n",
        "  return cipher\n",
        "\n",
        "\n",
        "\n",
        "text=input(\"Enter the text\")\n",
        "s=int(input(\"Enter the shift key\"))\n",
        "print(\"The original string is : \",text)\n",
        "print(\"The encrypted message is : \",encrypted(text,s))"
      ],
      "execution_count": 3,
      "outputs": [
        {
          "output_type": "stream",
          "name": "stdout",
          "text": [
            "Enter the texthello\n",
            "Enter the shift key1\n",
            "The original string is :  hello\n",
            "The encrypted message is :  ifmmp\n"
          ]
        }
      ]
    }
  ]
}